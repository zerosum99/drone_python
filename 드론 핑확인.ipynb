{
 "cells": [
  {
   "cell_type": "code",
   "execution_count": 1,
   "metadata": {},
   "outputs": [],
   "source": [
    "from time import sleep\n",
    "\n",
    "from e_drone.drone import *\n",
    "from e_drone.protocol import *"
   ]
  },
  {
   "cell_type": "code",
   "execution_count": 11,
   "metadata": {},
   "outputs": [],
   "source": [
    "timeStart = time.time()"
   ]
  },
  {
   "cell_type": "code",
   "execution_count": 12,
   "metadata": {},
   "outputs": [],
   "source": [
    "timeStop = time.time()"
   ]
  },
  {
   "cell_type": "code",
   "execution_count": 13,
   "metadata": {},
   "outputs": [],
   "source": [
    "timeDiff = timeStop - timeStart "
   ]
  },
  {
   "cell_type": "code",
   "execution_count": 18,
   "metadata": {},
   "outputs": [
    {
     "data": {
      "text/plain": [
       "' timeDiff : 7.00209903717041'"
      ]
     },
     "execution_count": 18,
     "metadata": {},
     "output_type": "execute_result"
    }
   ],
   "source": [
    "f\" timeDiff : {timeDiff}\""
   ]
  },
  {
   "cell_type": "code",
   "execution_count": 22,
   "metadata": {},
   "outputs": [
    {
     "data": {
      "text/plain": [
       "(object,)"
      ]
     },
     "execution_count": 22,
     "metadata": {},
     "output_type": "execute_result"
    }
   ],
   "source": [
    "Drone.__bases__"
   ]
  },
  {
   "cell_type": "code",
   "execution_count": 28,
   "metadata": {},
   "outputs": [],
   "source": [
    "from time import sleep\n",
    "\n",
    "from e_drone.drone import *\n",
    "from e_drone.protocol import *"
   ]
  },
  {
   "cell_type": "code",
   "execution_count": 30,
   "metadata": {},
   "outputs": [
    {
     "name": "stderr",
     "output_type": "stream",
     "text": [
      "Exception in thread Thread-14:\n",
      "Traceback (most recent call last):\n",
      "  File \"/Users/dahlmoon/anaconda3/lib/python3.7/site-packages/serial/serialposix.py\", line 483, in read\n",
      "    ready, _, _ = select.select([self.fd, self.pipe_abort_read_r], [], [], timeout.time_left())\n",
      "OSError: [Errno 9] Bad file descriptor\n",
      "\n",
      "During handling of the above exception, another exception occurred:\n",
      "\n",
      "Traceback (most recent call last):\n",
      "  File \"/Users/dahlmoon/anaconda3/lib/python3.7/threading.py\", line 926, in _bootstrap_inner\n",
      "    self.run()\n",
      "  File \"/Users/dahlmoon/anaconda3/lib/python3.7/threading.py\", line 870, in run\n",
      "    self._target(*self._args, **self._kwargs)\n",
      "  File \"/Users/dahlmoon/anaconda3/lib/python3.7/site-packages/e_drone/drone.py\", line 88, in _receiving\n",
      "    self._bufferQueue.put(self._serialport.read())\n",
      "  File \"/Users/dahlmoon/anaconda3/lib/python3.7/site-packages/serial/serialposix.py\", line 509, in read\n",
      "    raise SerialException('read failed: {}'.format(e))\n",
      "serial.serialutil.SerialException: read failed: [Errno 9] Bad file descriptor\n",
      "\n"
     ]
    }
   ],
   "source": [
    "drone = Drone(False)\n",
    "drone.open()\n",
    "\n",
    "drone.sendPing(DeviceType.Controller)\n",
    "\n",
    "drone.close()"
   ]
  },
  {
   "cell_type": "code",
   "execution_count": 27,
   "metadata": {},
   "outputs": [
    {
     "name": "stdout",
     "output_type": "stream",
     "text": [
      "Time Over\n"
     ]
    },
    {
     "name": "stderr",
     "output_type": "stream",
     "text": [
      "Exception in thread Thread-12:\n",
      "Traceback (most recent call last):\n",
      "  File \"/Users/dahlmoon/anaconda3/lib/python3.7/site-packages/serial/serialposix.py\", line 483, in read\n",
      "    ready, _, _ = select.select([self.fd, self.pipe_abort_read_r], [], [], timeout.time_left())\n",
      "OSError: [Errno 9] Bad file descriptor\n",
      "\n",
      "During handling of the above exception, another exception occurred:\n",
      "\n",
      "Traceback (most recent call last):\n",
      "  File \"/Users/dahlmoon/anaconda3/lib/python3.7/threading.py\", line 926, in _bootstrap_inner\n",
      "    self.run()\n",
      "  File \"/Users/dahlmoon/anaconda3/lib/python3.7/threading.py\", line 870, in run\n",
      "    self._target(*self._args, **self._kwargs)\n",
      "  File \"/Users/dahlmoon/anaconda3/lib/python3.7/site-packages/e_drone/drone.py\", line 88, in _receiving\n",
      "    self._bufferQueue.put(self._serialport.read())\n",
      "  File \"/Users/dahlmoon/anaconda3/lib/python3.7/site-packages/serial/serialposix.py\", line 509, in read\n",
      "    raise SerialException('read failed: {}'.format(e))\n",
      "serial.serialutil.SerialException: read failed: [Errno 9] Bad file descriptor\n",
      "\n"
     ]
    }
   ],
   "source": [
    "\n",
    "\n",
    "\n",
    "if __name__ == '__main__':\n",
    "\n",
    "    drone = Drone(False)\n",
    "    drone.open()\n",
    "\n",
    "    drone.sendPing(DeviceType.Controller)\n",
    "\n",
    "    timeStart = time.time()\n",
    "\n",
    "    while True:\n",
    "        sleep(0.01)\n",
    "        dataType = drone.check()\n",
    "\n",
    "        if dataType == DataType.Ack:\n",
    "            ack = drone.getData(DataType.Ack)\n",
    "            print(\"{0} / {1} / {2:04X}\".format(ack.dataType.name, ack.systemTime, ack.crc16))\n",
    "            print(\"T: {0}\".format(time.time() - timeStart))\n",
    "            break;\n",
    "\n",
    "        # 1초 동안 응답이 없을 경우 응답 확인을 빠져나감\n",
    "        if time.time() > timeStart + 1:\n",
    "            print(\"Time Over\")\n",
    "            break;\n",
    "\n",
    "    drone.close()"
   ]
  },
  {
   "cell_type": "code",
   "execution_count": null,
   "metadata": {},
   "outputs": [],
   "source": []
  },
  {
   "cell_type": "code",
   "execution_count": null,
   "metadata": {},
   "outputs": [],
   "source": []
  },
  {
   "cell_type": "code",
   "execution_count": 21,
   "metadata": {},
   "outputs": [
    {
     "data": {
      "text/plain": [
       "['__class__',\n",
       " '__del__',\n",
       " '__delattr__',\n",
       " '__dict__',\n",
       " '__dir__',\n",
       " '__doc__',\n",
       " '__eq__',\n",
       " '__format__',\n",
       " '__ge__',\n",
       " '__getattribute__',\n",
       " '__gt__',\n",
       " '__hash__',\n",
       " '__init__',\n",
       " '__init_subclass__',\n",
       " '__le__',\n",
       " '__lt__',\n",
       " '__module__',\n",
       " '__ne__',\n",
       " '__new__',\n",
       " '__reduce__',\n",
       " '__reduce_ex__',\n",
       " '__repr__',\n",
       " '__setattr__',\n",
       " '__sizeof__',\n",
       " '__str__',\n",
       " '__subclasshook__',\n",
       " '__weakref__',\n",
       " '_handler',\n",
       " '_printError',\n",
       " '_printLog',\n",
       " '_printReceiveData',\n",
       " '_printReceiveDataEnd',\n",
       " '_printTransferData',\n",
       " '_receiving',\n",
       " '_runEventHandler',\n",
       " '_runHandler',\n",
       " '_runHandlerForMonitor',\n",
       " 'check',\n",
       " 'checkDetail',\n",
       " 'close',\n",
       " 'getCount',\n",
       " 'getData',\n",
       " 'getHeader',\n",
       " 'isOpen',\n",
       " 'makeTransferDataArray',\n",
       " 'open',\n",
       " 'sendBacklight',\n",
       " 'sendBuzzer',\n",
       " 'sendBuzzerHz',\n",
       " 'sendBuzzerHzReserve',\n",
       " 'sendBuzzerMute',\n",
       " 'sendBuzzerMuteReserve',\n",
       " 'sendBuzzerScale',\n",
       " 'sendBuzzerScaleReserve',\n",
       " 'sendClearBias',\n",
       " 'sendCommand',\n",
       " 'sendCommandLightEvent',\n",
       " 'sendCommandLightEventColor',\n",
       " 'sendCommandLightEventColors',\n",
       " 'sendControl',\n",
       " 'sendControlPosition',\n",
       " 'sendControlPosition16',\n",
       " 'sendControlWhile',\n",
       " 'sendDisplayClear',\n",
       " 'sendDisplayClearAll',\n",
       " 'sendDisplayDrawCircle',\n",
       " 'sendDisplayDrawLine',\n",
       " 'sendDisplayDrawPoint',\n",
       " 'sendDisplayDrawRect',\n",
       " 'sendDisplayDrawString',\n",
       " 'sendDisplayDrawStringAlign',\n",
       " 'sendDisplayInvert',\n",
       " 'sendFlightEvent',\n",
       " 'sendHeadless',\n",
       " 'sendLanding',\n",
       " 'sendLightEventColor',\n",
       " 'sendLightEventColors',\n",
       " 'sendLightManual',\n",
       " 'sendLightModeColor',\n",
       " 'sendLightModeColors',\n",
       " 'sendLostConnection',\n",
       " 'sendModeControlFlight',\n",
       " 'sendMotor',\n",
       " 'sendMotorSingle',\n",
       " 'sendPairing',\n",
       " 'sendPing',\n",
       " 'sendRequest',\n",
       " 'sendSetDefault',\n",
       " 'sendStop',\n",
       " 'sendTakeOff',\n",
       " 'sendTrim',\n",
       " 'sendVibrator',\n",
       " 'sendVibratorReserve',\n",
       " 'sendWeight',\n",
       " 'setEventHandler',\n",
       " 'transfer']"
      ]
     },
     "execution_count": 21,
     "metadata": {},
     "output_type": "execute_result"
    }
   ],
   "source": [
    "dir(Drone)"
   ]
  },
  {
   "cell_type": "markdown",
   "metadata": {},
   "source": [
    "## 조정기 정보 확인"
   ]
  },
  {
   "cell_type": "code",
   "execution_count": 25,
   "metadata": {},
   "outputs": [
    {
     "name": "stdout",
     "output_type": "stream",
     "text": [
      "/dev/cu.Bluetooth-Incoming-Port\n",
      "/dev/cu.MALS\n",
      "/dev/cu.SOC\n",
      "/dev/cu.usbserial-14110\n"
     ]
    }
   ],
   "source": [
    "from serial.tools.list_ports import comports\n",
    "\n",
    "for port, desc, hwid in sorted(comports()):\n",
    "    print(\"%s\" % (port))"
   ]
  },
  {
   "cell_type": "markdown",
   "metadata": {},
   "source": [
    "## 드론 시작하기"
   ]
  },
  {
   "cell_type": "code",
   "execution_count": 2,
   "metadata": {},
   "outputs": [
    {
     "ename": "NameError",
     "evalue": "name 'port' is not defined",
     "output_type": "error",
     "traceback": [
      "\u001b[1;31m---------------------------------------------------------------------------\u001b[0m",
      "\u001b[1;31mNameError\u001b[0m                                 Traceback (most recent call last)",
      "\u001b[1;32m<ipython-input-2-14c2375231ba>\u001b[0m in \u001b[0;36m<module>\u001b[1;34m\u001b[0m\n\u001b[0;32m      1\u001b[0m \u001b[0mdrone\u001b[0m \u001b[1;33m=\u001b[0m \u001b[0mDrone\u001b[0m\u001b[1;33m(\u001b[0m\u001b[1;33m)\u001b[0m\u001b[1;33m\u001b[0m\u001b[1;33m\u001b[0m\u001b[0m\n\u001b[1;32m----> 2\u001b[1;33m \u001b[0mdrone\u001b[0m\u001b[1;33m.\u001b[0m\u001b[0mopen\u001b[0m\u001b[1;33m(\u001b[0m\u001b[0mstr\u001b[0m\u001b[1;33m(\u001b[0m\u001b[0mport\u001b[0m\u001b[1;33m)\u001b[0m\u001b[1;33m)\u001b[0m\u001b[1;33m\u001b[0m\u001b[1;33m\u001b[0m\u001b[0m\n\u001b[0m\u001b[0;32m      3\u001b[0m \u001b[0mprint\u001b[0m\u001b[1;33m(\u001b[0m\u001b[1;34m\" drone start\"\u001b[0m\u001b[1;33m)\u001b[0m\u001b[1;33m\u001b[0m\u001b[1;33m\u001b[0m\u001b[0m\n\u001b[0;32m      4\u001b[0m \u001b[1;33m\u001b[0m\u001b[0m\n\u001b[0;32m      5\u001b[0m \u001b[0mprint\u001b[0m\u001b[1;33m(\u001b[0m\u001b[0mdrone\u001b[0m\u001b[1;33m.\u001b[0m\u001b[0mcheck\u001b[0m\u001b[1;33m(\u001b[0m\u001b[1;33m)\u001b[0m\u001b[1;33m)\u001b[0m\u001b[1;33m\u001b[0m\u001b[1;33m\u001b[0m\u001b[0m\n",
      "\u001b[1;31mNameError\u001b[0m: name 'port' is not defined"
     ]
    }
   ],
   "source": [
    "drone = Drone()\n",
    "drone.open(str(port))\n",
    "print(\" drone start\")\n",
    "\n",
    "print(drone.check())\n",
    "print(drone.isOpen())\n",
    "sleep(10)\n",
    "drone.close()"
   ]
  },
  {
   "cell_type": "code",
   "execution_count": null,
   "metadata": {},
   "outputs": [],
   "source": []
  },
  {
   "cell_type": "code",
   "execution_count": 3,
   "metadata": {},
   "outputs": [
    {
     "name": "stdout",
     "output_type": "stream",
     "text": [
      "Time Over\n"
     ]
    }
   ],
   "source": [
    "\n",
    "\n",
    "\n",
    "if __name__ == '__main__':\n",
    "\n",
    "    drone = Drone(False)\n",
    "    drone.open()\n",
    "\n",
    "    drone.sendPing(DeviceType.Controller)\n",
    "\n",
    "    timeStart = time.time()\n",
    "\n",
    "    while True:\n",
    "        sleep(0.01)\n",
    "        dataType = drone.check()\n",
    "\n",
    "        if dataType == DataType.Ack:\n",
    "            ack = drone.getData(DataType.Ack)\n",
    "            print(\"{0} / {1} / {2:04X}\".format(ack.dataType.name, ack.systemTime, ack.crc16))\n",
    "            print(\"처리한 시간 : {0}\".format(time.time() - timeStart))\n",
    "            break;\n",
    "\n",
    "        # 1초 동안 응답이 없을 경우 응답 확인을 빠져나감\n",
    "        if time.time() > timeStart + 1:\n",
    "            print(\"Time Over\")\n",
    "            break;\n",
    "\n",
    "    drone.close()"
   ]
  },
  {
   "cell_type": "code",
   "execution_count": null,
   "metadata": {},
   "outputs": [],
   "source": []
  }
 ],
 "metadata": {
  "kernelspec": {
   "display_name": "Python 3",
   "language": "python",
   "name": "python3"
  },
  "language_info": {
   "codemirror_mode": {
    "name": "ipython",
    "version": 3
   },
   "file_extension": ".py",
   "mimetype": "text/x-python",
   "name": "python",
   "nbconvert_exporter": "python",
   "pygments_lexer": "ipython3",
   "version": "3.7.5"
  }
 },
 "nbformat": 4,
 "nbformat_minor": 2
}
