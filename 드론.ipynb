{
 "cells": [
  {
   "cell_type": "markdown",
   "metadata": {},
   "source": [
    "## 이드론 메뉴얼\n",
    "\n",
    "\n",
    "http://dev.byrobot.co.kr/documents/kr/products/e_drone/library/python/e_drone/04_drone/"
   ]
  },
  {
   "cell_type": "code",
   "execution_count": 1,
   "metadata": {},
   "outputs": [],
   "source": [
    "import e_drone.drone as ed"
   ]
  },
  {
   "cell_type": "code",
   "execution_count": 7,
   "metadata": {},
   "outputs": [],
   "source": [
    "a = ed.Drone()\n",
    "a.sendTakeOff()"
   ]
  },
  {
   "cell_type": "code",
   "execution_count": 24,
   "metadata": {},
   "outputs": [
    {
     "data": {
      "text/plain": [
       "['Ack',\n",
       " 'Address',\n",
       " 'Altitude',\n",
       " 'Attitude',\n",
       " 'Back',\n",
       " 'Bias',\n",
       " 'Button',\n",
       " 'ButtonEvent',\n",
       " 'ButtonFlagController',\n",
       " 'ButtonFlagDrone',\n",
       " 'Buzzer',\n",
       " 'BuzzerMode',\n",
       " 'BuzzerScale',\n",
       " 'CRC16',\n",
       " 'Color',\n",
       " 'Colors',\n",
       " 'Command',\n",
       " 'CommandLightEvent',\n",
       " 'CommandLightEventColor',\n",
       " 'CommandLightEventColors',\n",
       " 'CommandType',\n",
       " 'ControlPosition',\n",
       " 'ControlPosition16',\n",
       " 'ControlQuad8',\n",
       " 'ControlQuad8AndRequestData',\n",
       " 'Count',\n",
       " 'DataType',\n",
       " 'DeviceType',\n",
       " 'Direction',\n",
       " 'DisplayAlign',\n",
       " 'DisplayClear',\n",
       " 'DisplayClearAll',\n",
       " 'DisplayDrawCircle',\n",
       " 'DisplayDrawLine',\n",
       " 'DisplayDrawPoint',\n",
       " 'DisplayDrawRect',\n",
       " 'DisplayDrawString',\n",
       " 'DisplayDrawStringAlign',\n",
       " 'DisplayFont',\n",
       " 'DisplayImage',\n",
       " 'DisplayInvert',\n",
       " 'DisplayLine',\n",
       " 'DisplayPixel',\n",
       " 'Drone',\n",
       " 'Enum',\n",
       " 'Error',\n",
       " 'ErrorFlagsForSensor',\n",
       " 'ErrorFlagsForState',\n",
       " 'EventHandler',\n",
       " 'FlightEvent',\n",
       " 'Fore',\n",
       " 'Header',\n",
       " 'Headless',\n",
       " 'ISerializable',\n",
       " 'Information',\n",
       " 'InformationAssembledForController',\n",
       " 'InformationAssembledForEntry',\n",
       " 'Joystick',\n",
       " 'JoystickBlock',\n",
       " 'JoystickDirection',\n",
       " 'JoystickEvent',\n",
       " 'LightEvent',\n",
       " 'LightEventColor',\n",
       " 'LightEventColors',\n",
       " 'LightFlagsController',\n",
       " 'LightFlagsDrone',\n",
       " 'LightManual',\n",
       " 'LightMode',\n",
       " 'LightModeColor',\n",
       " 'LightModeColors',\n",
       " 'LightModeController',\n",
       " 'LightModeDrone',\n",
       " 'LostConnection',\n",
       " 'Message',\n",
       " 'ModeControlFlight',\n",
       " 'ModeFlight',\n",
       " 'ModeMovement',\n",
       " 'ModeSystem',\n",
       " 'ModeUpdate',\n",
       " 'ModelNumber',\n",
       " 'Monitor0',\n",
       " 'Monitor4',\n",
       " 'Monitor8',\n",
       " 'MonitorDataType',\n",
       " 'MonitorHeaderType',\n",
       " 'MonitorType',\n",
       " 'Motion',\n",
       " 'Motor',\n",
       " 'MotorBlock',\n",
       " 'MotorSingle',\n",
       " 'Pairing',\n",
       " 'Parser',\n",
       " 'Ping',\n",
       " 'Position',\n",
       " 'Queue',\n",
       " 'Range',\n",
       " 'RawFlow',\n",
       " 'RawMotion',\n",
       " 'Receiver',\n",
       " 'RegistrationInformation',\n",
       " 'Request',\n",
       " 'Rotation',\n",
       " 'Rssi',\n",
       " 'Section',\n",
       " 'SensorOrientation',\n",
       " 'State',\n",
       " 'StateLoading',\n",
       " 'Storage',\n",
       " 'StorageCount',\n",
       " 'StorageHeader',\n",
       " 'Struct',\n",
       " 'Style',\n",
       " 'SystemInformation',\n",
       " 'Thread',\n",
       " 'Trim',\n",
       " 'TrimDirection',\n",
       " 'UpdateLocation',\n",
       " 'Vector',\n",
       " 'Version',\n",
       " 'Vibrator',\n",
       " 'VibratorMode',\n",
       " 'Weight',\n",
       " '__builtins__',\n",
       " '__cached__',\n",
       " '__doc__',\n",
       " '__file__',\n",
       " '__loader__',\n",
       " '__name__',\n",
       " '__package__',\n",
       " '__spec__',\n",
       " 'abc',\n",
       " 'binascii',\n",
       " 'calcsize',\n",
       " 'colorama',\n",
       " 'comports',\n",
       " 'convertByteArrayToString',\n",
       " 'eq',\n",
       " 'error',\n",
       " 'iter_unpack',\n",
       " 'np',\n",
       " 'os',\n",
       " 'pack',\n",
       " 'pack_into',\n",
       " 'queue',\n",
       " 'random',\n",
       " 'serial',\n",
       " 'sleep',\n",
       " 'threading',\n",
       " 'time',\n",
       " 'unpack',\n",
       " 'unpack_from']"
      ]
     },
     "execution_count": 24,
     "metadata": {},
     "output_type": "execute_result"
    }
   ],
   "source": [
    "dir(ed)"
   ]
  },
  {
   "cell_type": "code",
   "execution_count": 25,
   "metadata": {},
   "outputs": [
    {
     "data": {
      "text/plain": [
       "<module 'serial' from '/Users/dahlmoon/anaconda3/lib/python3.7/site-packages/serial/__init__.py'>"
      ]
     },
     "execution_count": 25,
     "metadata": {},
     "output_type": "execute_result"
    }
   ],
   "source": [
    "ed.serial"
   ]
  },
  {
   "cell_type": "code",
   "execution_count": 9,
   "metadata": {},
   "outputs": [],
   "source": [
    "from e_drone.drone  import *"
   ]
  },
  {
   "cell_type": "code",
   "execution_count": 12,
   "metadata": {},
   "outputs": [
    {
     "data": {
      "text/plain": [
       "<enum 'DeviceType'>"
      ]
     },
     "execution_count": 12,
     "metadata": {},
     "output_type": "execute_result"
    }
   ],
   "source": [
    "DeviceType"
   ]
  },
  {
   "cell_type": "code",
   "execution_count": 13,
   "metadata": {},
   "outputs": [
    {
     "data": {
      "text/plain": [
       "['Base',\n",
       " 'Broadcasting',\n",
       " 'ByScratch',\n",
       " 'Controller',\n",
       " 'Drone',\n",
       " 'Encrypter',\n",
       " 'Entry',\n",
       " 'Link',\n",
       " 'LinkServer',\n",
       " 'Monitor',\n",
       " 'None_',\n",
       " 'Range',\n",
       " 'Scratch',\n",
       " 'Tester',\n",
       " 'Updater',\n",
       " '__class__',\n",
       " '__doc__',\n",
       " '__members__',\n",
       " '__module__']"
      ]
     },
     "execution_count": 13,
     "metadata": {},
     "output_type": "execute_result"
    }
   ],
   "source": [
    "dir(DeviceType)"
   ]
  },
  {
   "cell_type": "code",
   "execution_count": 14,
   "metadata": {},
   "outputs": [
    {
     "data": {
      "text/plain": [
       "<DeviceType.Base: 112>"
      ]
     },
     "execution_count": 14,
     "metadata": {},
     "output_type": "execute_result"
    }
   ],
   "source": [
    "DeviceType.Base"
   ]
  },
  {
   "cell_type": "code",
   "execution_count": 15,
   "metadata": {},
   "outputs": [
    {
     "data": {
      "text/plain": [
       "(<enum 'Enum'>,)"
      ]
     },
     "execution_count": 15,
     "metadata": {},
     "output_type": "execute_result"
    }
   ],
   "source": [
    "DeviceType.__bases__"
   ]
  },
  {
   "cell_type": "code",
   "execution_count": 16,
   "metadata": {},
   "outputs": [
    {
     "data": {
      "text/plain": [
       "<enum 'Enum'>"
      ]
     },
     "execution_count": 16,
     "metadata": {},
     "output_type": "execute_result"
    }
   ],
   "source": [
    "Enum"
   ]
  },
  {
   "cell_type": "code",
   "execution_count": 17,
   "metadata": {},
   "outputs": [
    {
     "name": "stdout",
     "output_type": "stream",
     "text": [
      "Help on class Enum in module enum:\n",
      "\n",
      "class Enum(builtins.object)\n",
      " |  Enum(value, names=None, *, module=None, qualname=None, type=None, start=1)\n",
      " |  \n",
      " |  Generic enumeration.\n",
      " |  \n",
      " |  Derive from this class to define new enumerations.\n",
      " |  \n",
      " |  Data descriptors defined here:\n",
      " |  \n",
      " |  name\n",
      " |      The name of the Enum member.\n",
      " |  \n",
      " |  value\n",
      " |      The value of the Enum member.\n",
      " |  \n",
      " |  ----------------------------------------------------------------------\n",
      " |  Data descriptors inherited from EnumMeta:\n",
      " |  \n",
      " |  __members__\n",
      " |      Returns a mapping of member name->value.\n",
      " |      \n",
      " |      This mapping lists all enum members, including aliases. Note that this\n",
      " |      is a read-only view of the internal mapping.\n",
      "\n"
     ]
    }
   ],
   "source": [
    "help(Enum)"
   ]
  },
  {
   "cell_type": "code",
   "execution_count": 18,
   "metadata": {},
   "outputs": [],
   "source": [
    "class Color(Enum) :\n",
    "    RED = 1\n",
    "    Blue = 2"
   ]
  },
  {
   "cell_type": "code",
   "execution_count": 20,
   "metadata": {},
   "outputs": [
    {
     "data": {
      "text/plain": [
       "False"
      ]
     },
     "execution_count": 20,
     "metadata": {},
     "output_type": "execute_result"
    }
   ],
   "source": [
    "Color.RED == 1"
   ]
  },
  {
   "cell_type": "code",
   "execution_count": 21,
   "metadata": {},
   "outputs": [],
   "source": [
    "Color_ = Enum('Color', 'red green blue')\n"
   ]
  },
  {
   "cell_type": "code",
   "execution_count": 22,
   "metadata": {},
   "outputs": [
    {
     "data": {
      "text/plain": [
       "<enum 'Color'>"
      ]
     },
     "execution_count": 22,
     "metadata": {},
     "output_type": "execute_result"
    }
   ],
   "source": [
    "Color_"
   ]
  },
  {
   "cell_type": "code",
   "execution_count": 23,
   "metadata": {},
   "outputs": [
    {
     "data": {
      "text/plain": [
       "False"
      ]
     },
     "execution_count": 23,
     "metadata": {},
     "output_type": "execute_result"
    }
   ],
   "source": [
    "Color_.red == 1"
   ]
  },
  {
   "cell_type": "code",
   "execution_count": null,
   "metadata": {},
   "outputs": [],
   "source": []
  }
 ],
 "metadata": {
  "kernelspec": {
   "display_name": "Python 3",
   "language": "python",
   "name": "python3"
  },
  "language_info": {
   "codemirror_mode": {
    "name": "ipython",
    "version": 3
   },
   "file_extension": ".py",
   "mimetype": "text/x-python",
   "name": "python",
   "nbconvert_exporter": "python",
   "pygments_lexer": "ipython3",
   "version": "3.7.5"
  }
 },
 "nbformat": 4,
 "nbformat_minor": 2
}
