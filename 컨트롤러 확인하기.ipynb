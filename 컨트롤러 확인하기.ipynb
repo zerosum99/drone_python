{
 "cells": [
  {
   "cell_type": "code",
   "execution_count": null,
   "metadata": {},
   "outputs": [],
   "source": []
  },
  {
   "cell_type": "code",
   "execution_count": 15,
   "metadata": {},
   "outputs": [
    {
     "name": "stdout",
     "output_type": "stream",
     "text": [
      "/dev/cu.Bluetooth-Incoming-Port\n",
      "/dev/cu.MALS\n",
      "/dev/cu.SOC\n",
      "/dev/cu.usbserial-14130\n"
     ]
    }
   ],
   "source": [
    "import random\n",
    "from time import sleep\n",
    "\n",
    "from e_drone.drone import *\n",
    "from e_drone.protocol import *\n",
    "\n",
    "from serial.tools.list_ports import comports\n",
    "\n",
    "for port, desc, hwid in sorted(comports()):\n",
    "    print(\"%s\" % (port))"
   ]
  },
  {
   "cell_type": "code",
   "execution_count": null,
   "metadata": {},
   "outputs": [],
   "source": []
  },
  {
   "cell_type": "markdown",
   "metadata": {},
   "source": [
    "## DataType"
   ]
  },
  {
   "cell_type": "code",
   "execution_count": 40,
   "metadata": {},
   "outputs": [
    {
     "data": {
      "text/plain": [
       "['Ack',\n",
       " 'Address',\n",
       " 'Administrator',\n",
       " 'Altitude',\n",
       " 'Attitude',\n",
       " 'Bias',\n",
       " 'Button',\n",
       " 'Buzzer',\n",
       " 'Command',\n",
       " 'Control',\n",
       " 'Count',\n",
       " 'DisplayClear',\n",
       " 'DisplayDrawCircle',\n",
       " 'DisplayDrawImage',\n",
       " 'DisplayDrawLine',\n",
       " 'DisplayDrawPoint',\n",
       " 'DisplayDrawRect',\n",
       " 'DisplayDrawString',\n",
       " 'DisplayDrawStringAlign',\n",
       " 'DisplayInvert',\n",
       " 'Encrypt',\n",
       " 'EndOfType',\n",
       " 'Error',\n",
       " 'GpsRtkExtendedRawMeasurementData',\n",
       " 'GpsRtkNavigationState',\n",
       " 'Information',\n",
       " 'InformationAssembledForController',\n",
       " 'InformationAssembledForEntry',\n",
       " 'Joystick',\n",
       " 'LightDefault',\n",
       " 'LightEvent',\n",
       " 'LightManual',\n",
       " 'LightMode',\n",
       " 'LostConnection',\n",
       " 'Message',\n",
       " 'Monitor',\n",
       " 'Motion',\n",
       " 'Motor',\n",
       " 'MotorSingle',\n",
       " 'NavigationCounter',\n",
       " 'NavigationHeading',\n",
       " 'NavigationLocation',\n",
       " 'NavigationMonitor',\n",
       " 'NavigationTarget',\n",
       " 'None_',\n",
       " 'Pairing',\n",
       " 'Ping',\n",
       " 'Position',\n",
       " 'Range',\n",
       " 'RawFlow',\n",
       " 'RawMotion',\n",
       " 'Registration',\n",
       " 'Request',\n",
       " 'Rssi',\n",
       " 'State',\n",
       " 'SystemCount',\n",
       " 'SystemInformation',\n",
       " 'Trim',\n",
       " 'Update',\n",
       " 'UpdateLocation',\n",
       " 'Vibrator',\n",
       " 'Weight',\n",
       " '__class__',\n",
       " '__doc__',\n",
       " '__members__',\n",
       " '__module__']"
      ]
     },
     "execution_count": 40,
     "metadata": {},
     "output_type": "execute_result"
    }
   ],
   "source": [
    "dir(DataType)"
   ]
  },
  {
   "cell_type": "code",
   "execution_count": null,
   "metadata": {},
   "outputs": [],
   "source": []
  },
  {
   "cell_type": "code",
   "execution_count": null,
   "metadata": {},
   "outputs": [],
   "source": []
  },
  {
   "cell_type": "code",
   "execution_count": 28,
   "metadata": {},
   "outputs": [],
   "source": [
    "s = DataType.Ack"
   ]
  },
  {
   "cell_type": "code",
   "execution_count": 31,
   "metadata": {},
   "outputs": [
    {
     "name": "stdout",
     "output_type": "stream",
     "text": [
      "DataType.Ack\n"
     ]
    }
   ],
   "source": [
    "print(s)"
   ]
  },
  {
   "cell_type": "code",
   "execution_count": 32,
   "metadata": {},
   "outputs": [
    {
     "data": {
      "text/plain": [
       "'Ack'"
      ]
     },
     "execution_count": 32,
     "metadata": {},
     "output_type": "execute_result"
    }
   ],
   "source": [
    "s.name"
   ]
  },
  {
   "cell_type": "code",
   "execution_count": 34,
   "metadata": {},
   "outputs": [
    {
     "data": {
      "text/plain": [
       "2"
      ]
     },
     "execution_count": 34,
     "metadata": {},
     "output_type": "execute_result"
    }
   ],
   "source": [
    "s.value"
   ]
  },
  {
   "cell_type": "code",
   "execution_count": 30,
   "metadata": {},
   "outputs": [
    {
     "data": {
      "text/plain": [
       "True"
      ]
     },
     "execution_count": 30,
     "metadata": {},
     "output_type": "execute_result"
    }
   ],
   "source": [
    "s == DataType.Ack"
   ]
  },
  {
   "cell_type": "code",
   "execution_count": 52,
   "metadata": {},
   "outputs": [],
   "source": [
    "drone.close()"
   ]
  },
  {
   "cell_type": "markdown",
   "metadata": {},
   "source": [
    "## 드론 객체를 열기 "
   ]
  },
  {
   "cell_type": "code",
   "execution_count": 49,
   "metadata": {},
   "outputs": [
    {
     "data": {
      "text/plain": [
       "True"
      ]
     },
     "execution_count": 49,
     "metadata": {},
     "output_type": "execute_result"
    }
   ],
   "source": [
    "drone = Drone(False)\n",
    "drone.open()"
   ]
  },
  {
   "cell_type": "markdown",
   "metadata": {},
   "source": [
    "## 컨트롤러에게 핑보내기 "
   ]
  },
  {
   "cell_type": "code",
   "execution_count": 50,
   "metadata": {},
   "outputs": [],
   "source": [
    "drone.sendPing(DeviceType.Controller)\n",
    "\n",
    "timeStart = time.time()"
   ]
  },
  {
   "cell_type": "code",
   "execution_count": null,
   "metadata": {},
   "outputs": [],
   "source": []
  },
  {
   "cell_type": "code",
   "execution_count": null,
   "metadata": {},
   "outputs": [],
   "source": []
  },
  {
   "cell_type": "code",
   "execution_count": 54,
   "metadata": {},
   "outputs": [
    {
     "name": "stdout",
     "output_type": "stream",
     "text": [
      "dataType DataType.Ack <enum 'DataType'>\n",
      "ack  <e_drone.protocol.Ack object at 0x112a095d0> <class 'e_drone.protocol.Ack'>\n",
      "Ping / 558057 / D986\n",
      "T: 0.08867597579956055\n"
     ]
    }
   ],
   "source": [
    "drone = Drone(False)\n",
    "drone.open()\n",
    "\n",
    "drone.sendPing(DeviceType.Controller)\n",
    "\n",
    "timeStart = time.time()\n",
    "\n",
    "while True:\n",
    "    sleep(0.01)\n",
    "    dataType = drone.check()\n",
    "    print(\"dataType\", dataType, type(dataType))\n",
    "    \n",
    "\n",
    "    if dataType.value == DataType.Ack.value :\n",
    "        ack = drone.getData(DataType.Ack)\n",
    "        \n",
    "        print(\"ack \", ack, type(ack))\n",
    "        print(\"{0} / {1} / {2:04X}\".format(ack.dataType.name, ack.systemTime, ack.crc16))\n",
    "        print(\"T: {0}\".format(time.time() - timeStart))\n",
    "        break;\n",
    "\n",
    " # 1초 동안 응답이 없을 경우 응답 확인을 빠져나감\n",
    "    if time.time() > timeStart + 1:\n",
    "        print(\"Time Over\")\n",
    "        break;\n",
    "drone.close()"
   ]
  },
  {
   "cell_type": "code",
   "execution_count": null,
   "metadata": {},
   "outputs": [],
   "source": []
  },
  {
   "cell_type": "code",
   "execution_count": 57,
   "metadata": {},
   "outputs": [
    {
     "name": "stdout",
     "output_type": "stream",
     "text": [
      "eventAck()\n",
      "Ping / 786670 / D986\n"
     ]
    }
   ],
   "source": [
    "def eventAck(ack):\n",
    "    print(\"eventAck()\")\n",
    "    print(\"{0} / {1} / {2:04X}\".format(ack.dataType.name, ack.systemTime, ack.crc16))\n",
    "\n",
    "\n",
    "if __name__ == '__main__':\n",
    "\n",
    "    drone = Drone()\n",
    "    drone.open()\n",
    "\n",
    "    # 이벤트 핸들링 함수 등록\n",
    "    drone.setEventHandler(DataType.Ack, eventAck)\n",
    "\n",
    "    # Ping 전송\n",
    "    drone.sendPing(DeviceType.Controller)\n",
    "    \n",
    "    sleep(0.1)\n",
    "\n",
    "    drone.close()"
   ]
  },
  {
   "cell_type": "code",
   "execution_count": null,
   "metadata": {},
   "outputs": [],
   "source": []
  },
  {
   "cell_type": "code",
   "execution_count": null,
   "metadata": {},
   "outputs": [],
   "source": []
  },
  {
   "cell_type": "code",
   "execution_count": 56,
   "metadata": {},
   "outputs": [
    {
     "name": "stdout",
     "output_type": "stream",
     "text": [
      "Help on method getData in module e_drone.drone:\n",
      "\n",
      "getData(dataType) method of e_drone.drone.Drone instance\n",
      "\n"
     ]
    }
   ],
   "source": [
    "help(drone.getData)"
   ]
  },
  {
   "cell_type": "code",
   "execution_count": 55,
   "metadata": {},
   "outputs": [
    {
     "data": {
      "text/plain": [
       "['__class__',\n",
       " '__del__',\n",
       " '__delattr__',\n",
       " '__dict__',\n",
       " '__dir__',\n",
       " '__doc__',\n",
       " '__eq__',\n",
       " '__format__',\n",
       " '__ge__',\n",
       " '__getattribute__',\n",
       " '__gt__',\n",
       " '__hash__',\n",
       " '__init__',\n",
       " '__init_subclass__',\n",
       " '__le__',\n",
       " '__lt__',\n",
       " '__module__',\n",
       " '__ne__',\n",
       " '__new__',\n",
       " '__reduce__',\n",
       " '__reduce_ex__',\n",
       " '__repr__',\n",
       " '__setattr__',\n",
       " '__sizeof__',\n",
       " '__str__',\n",
       " '__subclasshook__',\n",
       " '__weakref__',\n",
       " '_bufferHandler',\n",
       " '_bufferQueue',\n",
       " '_eventHandler',\n",
       " '_flagCheckBackground',\n",
       " '_flagShowErrorMessage',\n",
       " '_flagShowLogMessage',\n",
       " '_flagShowReceiveData',\n",
       " '_flagShowTransferData',\n",
       " '_flagThreadRun',\n",
       " '_handler',\n",
       " '_index',\n",
       " '_parser',\n",
       " '_printError',\n",
       " '_printLog',\n",
       " '_printReceiveData',\n",
       " '_printReceiveDataEnd',\n",
       " '_printTransferData',\n",
       " '_receiver',\n",
       " '_receiving',\n",
       " '_runEventHandler',\n",
       " '_runHandler',\n",
       " '_runHandlerForMonitor',\n",
       " '_serialport',\n",
       " '_storage',\n",
       " '_storageCount',\n",
       " '_storageHeader',\n",
       " '_thread',\n",
       " 'check',\n",
       " 'checkDetail',\n",
       " 'close',\n",
       " 'getCount',\n",
       " 'getData',\n",
       " 'getHeader',\n",
       " 'isOpen',\n",
       " 'makeTransferDataArray',\n",
       " 'monitorData',\n",
       " 'open',\n",
       " 'sendBacklight',\n",
       " 'sendBuzzer',\n",
       " 'sendBuzzerHz',\n",
       " 'sendBuzzerHzReserve',\n",
       " 'sendBuzzerMute',\n",
       " 'sendBuzzerMuteReserve',\n",
       " 'sendBuzzerScale',\n",
       " 'sendBuzzerScaleReserve',\n",
       " 'sendClearBias',\n",
       " 'sendCommand',\n",
       " 'sendCommandLightEvent',\n",
       " 'sendCommandLightEventColor',\n",
       " 'sendCommandLightEventColors',\n",
       " 'sendControl',\n",
       " 'sendControlPosition',\n",
       " 'sendControlPosition16',\n",
       " 'sendControlWhile',\n",
       " 'sendDisplayClear',\n",
       " 'sendDisplayClearAll',\n",
       " 'sendDisplayDrawCircle',\n",
       " 'sendDisplayDrawLine',\n",
       " 'sendDisplayDrawPoint',\n",
       " 'sendDisplayDrawRect',\n",
       " 'sendDisplayDrawString',\n",
       " 'sendDisplayDrawStringAlign',\n",
       " 'sendDisplayInvert',\n",
       " 'sendFlightEvent',\n",
       " 'sendHeadless',\n",
       " 'sendLanding',\n",
       " 'sendLightEventColor',\n",
       " 'sendLightEventColors',\n",
       " 'sendLightManual',\n",
       " 'sendLightModeColor',\n",
       " 'sendLightModeColors',\n",
       " 'sendLostConnection',\n",
       " 'sendModeControlFlight',\n",
       " 'sendMotor',\n",
       " 'sendMotorSingle',\n",
       " 'sendPairing',\n",
       " 'sendPing',\n",
       " 'sendRequest',\n",
       " 'sendSetDefault',\n",
       " 'sendStop',\n",
       " 'sendTakeOff',\n",
       " 'sendTrim',\n",
       " 'sendVibrator',\n",
       " 'sendVibratorReserve',\n",
       " 'sendWeight',\n",
       " 'setEventHandler',\n",
       " 'systemTimeMonitorData',\n",
       " 'timeStartProgram',\n",
       " 'transfer']"
      ]
     },
     "execution_count": 55,
     "metadata": {},
     "output_type": "execute_result"
    }
   ],
   "source": [
    "dir(drone)"
   ]
  },
  {
   "cell_type": "code",
   "execution_count": 24,
   "metadata": {},
   "outputs": [
    {
     "data": {
      "text/plain": [
       "<enum 'ModelNumber'>"
      ]
     },
     "execution_count": 24,
     "metadata": {},
     "output_type": "execute_result"
    }
   ],
   "source": [
    "ModelNumber"
   ]
  },
  {
   "cell_type": "code",
   "execution_count": 14,
   "metadata": {},
   "outputs": [
    {
     "data": {
      "text/plain": [
       "['Drone_3_Controller_P1',\n",
       " 'Drone_3_Controller_P2',\n",
       " 'Drone_3_Drone_P1',\n",
       " 'Drone_3_Drone_P2',\n",
       " 'Drone_3_Drone_P3',\n",
       " 'Drone_3_Drone_P4',\n",
       " 'Drone_3_Drone_P5',\n",
       " 'Drone_3_Drone_P6',\n",
       " 'Drone_4_Controller_P1',\n",
       " 'Drone_4_Controller_P2',\n",
       " 'Drone_4_Drone_P4',\n",
       " 'Drone_4_Drone_P5',\n",
       " 'Drone_4_Link_P0',\n",
       " 'Drone_4_Monitor_P2',\n",
       " 'Drone_4_Tester_P2',\n",
       " 'None_',\n",
       " '__class__',\n",
       " '__doc__',\n",
       " '__members__',\n",
       " '__module__']"
      ]
     },
     "execution_count": 14,
     "metadata": {},
     "output_type": "execute_result"
    }
   ],
   "source": [
    "dir(ModelNumber)"
   ]
  },
  {
   "cell_type": "code",
   "execution_count": null,
   "metadata": {},
   "outputs": [],
   "source": []
  },
  {
   "cell_type": "code",
   "execution_count": 9,
   "metadata": {},
   "outputs": [
    {
     "data": {
      "text/plain": [
       "['Base',\n",
       " 'Broadcasting',\n",
       " 'ByScratch',\n",
       " 'Controller',\n",
       " 'Drone',\n",
       " 'Encrypter',\n",
       " 'Entry',\n",
       " 'Link',\n",
       " 'LinkServer',\n",
       " 'Monitor',\n",
       " 'None_',\n",
       " 'Range',\n",
       " 'Scratch',\n",
       " 'Tester',\n",
       " 'Updater',\n",
       " '__class__',\n",
       " '__doc__',\n",
       " '__members__',\n",
       " '__module__']"
      ]
     },
     "execution_count": 9,
     "metadata": {},
     "output_type": "execute_result"
    }
   ],
   "source": [
    "dir(DeviceType)"
   ]
  },
  {
   "cell_type": "code",
   "execution_count": 6,
   "metadata": {},
   "outputs": [
    {
     "data": {
      "text/plain": [
       "<DeviceType.Drone: 16>"
      ]
     },
     "execution_count": 6,
     "metadata": {},
     "output_type": "execute_result"
    }
   ],
   "source": [
    "DeviceType.Drone"
   ]
  },
  {
   "cell_type": "code",
   "execution_count": null,
   "metadata": {},
   "outputs": [],
   "source": []
  },
  {
   "cell_type": "code",
   "execution_count": 12,
   "metadata": {},
   "outputs": [
    {
     "name": "stderr",
     "output_type": "stream",
     "text": [
      "Exception in thread Thread-10:\n",
      "Traceback (most recent call last):\n",
      "  File \"/Users/dahlmoon/anaconda3/lib/python3.7/site-packages/serial/serialposix.py\", line 501, in read\n",
      "    'device reports readiness to read but returned no data '\n",
      "serial.serialutil.SerialException: device reports readiness to read but returned no data (device disconnected or multiple access on port?)\n",
      "\n",
      "During handling of the above exception, another exception occurred:\n",
      "\n",
      "Traceback (most recent call last):\n",
      "  File \"/Users/dahlmoon/anaconda3/lib/python3.7/threading.py\", line 926, in _bootstrap_inner\n",
      "    self.run()\n",
      "  File \"/Users/dahlmoon/anaconda3/lib/python3.7/threading.py\", line 870, in run\n",
      "    self._target(*self._args, **self._kwargs)\n",
      "  File \"/Users/dahlmoon/anaconda3/lib/python3.7/site-packages/e_drone/drone.py\", line 88, in _receiving\n",
      "    self._bufferQueue.put(self._serialport.read())\n",
      "  File \"/Users/dahlmoon/anaconda3/lib/python3.7/site-packages/serial/serialposix.py\", line 509, in read\n",
      "    raise SerialException('read failed: {}'.format(e))\n",
      "serial.serialutil.SerialException: read failed: device reports readiness to read but returned no data (device disconnected or multiple access on port?)\n",
      "\n",
      "Exception in thread Thread-8:\n",
      "Traceback (most recent call last):\n",
      "  File \"/Users/dahlmoon/anaconda3/lib/python3.7/site-packages/serial/serialposix.py\", line 493, in read\n",
      "    buf = os.read(self.fd, size - len(read))\n",
      "OSError: [Errno 6] Device not configured\n",
      "\n",
      "During handling of the above exception, another exception occurred:\n",
      "\n",
      "Traceback (most recent call last):\n",
      "  File \"/Users/dahlmoon/anaconda3/lib/python3.7/threading.py\", line 926, in _bootstrap_inner\n",
      "    self.run()\n",
      "  File \"/Users/dahlmoon/anaconda3/lib/python3.7/threading.py\", line 870, in run\n",
      "    self._target(*self._args, **self._kwargs)\n",
      "  File \"/Users/dahlmoon/anaconda3/lib/python3.7/site-packages/e_drone/drone.py\", line 88, in _receiving\n",
      "    self._bufferQueue.put(self._serialport.read())\n",
      "  File \"/Users/dahlmoon/anaconda3/lib/python3.7/site-packages/serial/serialposix.py\", line 509, in read\n",
      "    raise SerialException('read failed: {}'.format(e))\n",
      "serial.serialutil.SerialException: read failed: [Errno 6] Device not configured\n",
      "\n",
      "Exception ignored in: <function Drone.__del__ at 0x1060487a0>\n",
      "Traceback (most recent call last):\n",
      "  File \"/Users/dahlmoon/anaconda3/lib/python3.7/site-packages/e_drone/drone.py\", line 82, in __del__\n",
      "    self.close()\n",
      "  File \"/Users/dahlmoon/anaconda3/lib/python3.7/site-packages/e_drone/drone.py\", line 161, in close\n",
      "    self._thread.join(timeout=1)\n",
      "  File \"/Users/dahlmoon/anaconda3/lib/python3.7/threading.py\", line 1041, in join\n",
      "    raise RuntimeError(\"cannot join current thread\")\n",
      "RuntimeError: cannot join current thread\n"
     ]
    }
   ],
   "source": [
    "\n",
    "\n",
    "\n",
    "if __name__ == '__main__':\n",
    "\n",
    "    drone = Drone()\n",
    "    drone.open(str(port))\n",
    "\n",
    "\n",
    "    drone.sendLightManual(DeviceType.Drone, 0xFF, 0)\n",
    "    sleep(1);\n",
    "\n",
    "\n",
    "    drone.sendLightManual(DeviceType.Drone, LightFlagsDrone.BodyRed.value, 10)\n",
    "    sleep(1);\n",
    "    \n",
    "    drone.sendLightManual(DeviceType.Drone, LightFlagsDrone.BodyRed.value, 100)\n",
    "    sleep(1);\n",
    "    \n",
    "    drone.sendLightManual(DeviceType.Drone, LightFlagsDrone.BodyRed.value, 0)\n",
    "    sleep(1);\n",
    "\n",
    "    drone.sendLightManual(DeviceType.Drone, LightFlagsDrone.BodyGreen.value, 10)\n",
    "    sleep(1);\n",
    "    \n",
    "    drone.sendLightManual(DeviceType.Drone, LightFlagsDrone.BodyGreen.value, 100)\n",
    "    sleep(1);\n",
    "    \n",
    "    drone.sendLightManual(DeviceType.Drone, LightFlagsDrone.BodyGreen.value, 0)\n",
    "    sleep(1);\n",
    "\n",
    "    drone.sendLightManual(DeviceType.Drone, LightFlagsDrone.BodyBlue.value, 10)\n",
    "    sleep(1);\n",
    "    \n",
    "    drone.sendLightManual(DeviceType.Drone, LightFlagsDrone.BodyBlue.value, 100)\n",
    "    sleep(1);\n",
    "    \n",
    "    drone.sendLightManual(DeviceType.Drone, LightFlagsDrone.BodyBlue.value, 0)\n",
    "    sleep(1);\n",
    "\n",
    "\n",
    "    drone.sendLightManual(DeviceType.Drone, 0x06, 10)\n",
    "    sleep(1);\n",
    "    \n",
    "    drone.sendLightManual(DeviceType.Drone, 0x06, 100)\n",
    "    sleep(1);\n",
    "    \n",
    "    drone.sendLightManual(DeviceType.Drone, 0x06, 0)\n",
    "    sleep(1);\n",
    "\n",
    "    drone.sendLightManual(DeviceType.Drone, 0x0A, 10)\n",
    "    sleep(1);\n",
    "    \n",
    "    drone.sendLightManual(DeviceType.Drone, 0x0A, 100)\n",
    "    sleep(1);\n",
    "    \n",
    "    drone.sendLightManual(DeviceType.Drone, 0x0A, 0)\n",
    "    sleep(1);\n",
    "\n",
    "    drone.sendLightManual(DeviceType.Drone, 0x0C, 10)\n",
    "    sleep(1);\n",
    "    \n",
    "    drone.sendLightManual(DeviceType.Drone, 0x0C, 100)\n",
    "    sleep(1);\n",
    "    \n",
    "    drone.sendLightManual(DeviceType.Drone, 0x0C, 0)\n",
    "    sleep(1);\n",
    "\n",
    "\n",
    "    drone.close()"
   ]
  },
  {
   "cell_type": "code",
   "execution_count": null,
   "metadata": {},
   "outputs": [],
   "source": []
  }
 ],
 "metadata": {
  "kernelspec": {
   "display_name": "Python 3",
   "language": "python",
   "name": "python3"
  },
  "language_info": {
   "codemirror_mode": {
    "name": "ipython",
    "version": 3
   },
   "file_extension": ".py",
   "mimetype": "text/x-python",
   "name": "python",
   "nbconvert_exporter": "python",
   "pygments_lexer": "ipython3",
   "version": "3.7.4"
  }
 },
 "nbformat": 4,
 "nbformat_minor": 2
}
